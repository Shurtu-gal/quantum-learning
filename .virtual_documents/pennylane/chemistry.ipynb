import pennylane as qml
from pennylane import numpy as np
import tensorflow as tf


symbols = ["H", "H"]
geometry = np.array([[0., 0., -0.66140414], [0., 0., 0.66140414]])
molecule = qml.qchem.Molecule(symbols, geometry)
hamiltonian, qubits = qml.qchem.molecular_hamiltonian(molecule)


dev = qml.device('default.qubit', wires=4)


@qml.qnode(dev)
def circuit():
    qml.BasisState(np.array([0,0,1,1]), wires=[0,1,2,3])

    return qml.state()


qml.draw_mpl(circuit, decimals=2)()


circuit()


@qml.qnode(dev)
def circuit(params):
    qml.BasisState(np.array([1, 1, 0, 0]), wires=[0, 1, 2, 3])
    qml.DoubleExcitation(params, wires=[0, 1, 2, 3])
    return qml.expval(hamiltonian)


params = np.array(0.2088514642480412, requires_grad=True)
circuit(params)


def cost(params):
    return circuit(params)

# Use an optimizer to minimize params
opt = qml.GradientDescentOptimizer(stepsize=0.1)

# Optimization loop
for step in range(10):
    params = opt.step(cost, params)
    print(f"Step {step + 1}: params = {params}")



circuit(0.2093751601458041)
