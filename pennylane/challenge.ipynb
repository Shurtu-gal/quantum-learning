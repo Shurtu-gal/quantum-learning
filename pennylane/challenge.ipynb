{
 "cells": [
  {
   "cell_type": "code",
   "execution_count": 74,
   "id": "fbcf1119-3533-4258-a9af-3aed22bdac64",
   "metadata": {},
   "outputs": [],
   "source": [
    "import json\n",
    "import pennylane as qml\n",
    "import pennylane.numpy as np\n",
    "def circuit_left():\n",
    "    \"\"\"\n",
    "    This function corresponds to the circuit on the left-hand side of the diagram in the \n",
    "    description. Simply place the necessary operations, you do not have to return anything.\n",
    "    \"\"\"\n",
    "    qml.CNOT([0, 1])\n",
    "    qml.Hadamard(wires=0)\n",
    "\n",
    "def circuit_right():\n",
    "    \"\"\"\n",
    "    This function corresponds to the circuit on the right-hand side of the diagram in the \n",
    "    description. Simply place the necessary operations, you do not have to return anything.\n",
    "    \"\"\"\n",
    "    qml.Hadamard(wires=1)\n",
    "    qml.CNOT([1, 2])\n",
    "\n",
    "def U():\n",
    "    \"\"\"This operator generates a PauliX gate on a random qubit\"\"\"\n",
    "    qml.PauliX(wires=1)"
   ]
  },
  {
   "cell_type": "code",
   "execution_count": 76,
   "id": "78907fff-bec2-4dbe-ae39-317fdac2abee",
   "metadata": {},
   "outputs": [],
   "source": [
    "dev = qml.device(\"default.qubit\", wires=3)\n",
    "\n",
    "@qml.qnode(dev)\n",
    "def circuit(alpha, beta, gamma):\n",
    "    \"\"\"Total circuit joining each block.\n",
    "\n",
    "    Args: \n",
    "        alpha (float): The first parameter of a U3 gate.\n",
    "        beta (float):The second parameter of a U3 gate. \n",
    "        gamma (float): The third parameter of a U3 gate. \n",
    "    \n",
    "    Returns:\n",
    "        (float): The expectation value of an observable.\n",
    "    \"\"\"\n",
    "    qml.U3(alpha, beta, gamma, wires=0)\n",
    "    circuit_left()\n",
    "    U()\n",
    "    circuit_right()\n",
    "\n",
    "    # Here we are returning the expected value with respect to any observable,\n",
    "    # the choice of observable is not important in this exercise.\n",
    "\n",
    "    return qml.expval(0.5 * qml.PauliZ(2) - qml.PauliY(2))\n",
    "\n",
    "# These functions are responsible for testing the solution.\n",
    "def run(test_case_input: str) -> str:\n",
    "    angles = json.loads(test_case_input)\n",
    "    output = circuit(*angles)\n",
    "    return str(output)\n",
    "\n",
    "def check(solution_output: str, expected_output: str) -> None:\n",
    "\n",
    "    solution_output = json.loads(solution_output)\n",
    "    expected_output = json.loads(expected_output)\n",
    "    assert np.allclose(\n",
    "        solution_output, expected_output, rtol=1e-4\n",
    "    ), \"The expected output is not quite right.\"\n",
    "\n",
    "    ops = circuit.tape.operations\n",
    "\n",
    "    for op in ops:\n",
    "        assert not (0 in op.wires and 2 in op.wires), \"Invalid connection between qubits.\"\n",
    "\n",
    "    assert circuit.tape.observables[0].wires == qml.wires.Wires(2), \"Measurement on wrong qubit.\"\n",
    "\n",
    "# These are the public test cases\n",
    "test_cases = [\n",
    "    ('[2.0,1.0,3.0]', '-0.97322'),\n",
    "    ('[-0.5,1.2,-1.2]', '0.88563'),\n",
    "    ('[0.22,3.0,2.1]', '0.457152'),\n",
    "    ('[2.22,3.1,-3.3]', '-0.335397'),\n",
    "    ('[-0.2,-0.1,3.4]', '0.470199'),\n",
    "    ('[-1.2,-1.1,0.4]', '-0.6494612')\n",
    "]\n",
    "# This will run the public test cases locally\n",
    "# for i, (input_, expected_output) in enumerate(test_cases):\n",
    "#     print(f\"Running test case {i} with input '{input_}'...\")\n",
    "\n",
    "#     try:\n",
    "#         output = run(input_)\n",
    "\n",
    "#     except Exception as exc:\n",
    "#         print(f\"Runtime Error. {exc}\")\n",
    "\n",
    "#     else:\n",
    "#         if message := check(output, expected_output):\n",
    "#             print(f\"Wrong Answer. Have: '{output}'. Want: '{expected_output}'.\")\n",
    "\n",
    "#         else:\n",
    "#             print(\"Correct!\")"
   ]
  },
  {
   "cell_type": "code",
   "execution_count": 77,
   "id": "5296c135-d244-4f41-b547-c5383ca58c69",
   "metadata": {},
   "outputs": [
    {
     "data": {
      "text/plain": [
       "(<Figure size 800x400 with 1 Axes>, <Axes: >)"
      ]
     },
     "execution_count": 77,
     "metadata": {},
     "output_type": "execute_result"
    },
    {
     "data": {
      "image/png": "[encoded data removed]",
      "text/plain": [
       "<Figure size 800x400 with 1 Axes>"
      ]
     },
     "metadata": {},
     "output_type": "display_data"
    }
   ],
   "source": [
    "qml.draw_mpl(circuit)(2.0, 0.2, 0)"
   ]
  },
  {
   "cell_type": "code",
   "execution_count": 78,
   "id": "6df57058-c942-4a94-ae96-b1e6c3a4040a",
   "metadata": {},
   "outputs": [
    {
     "data": {
      "text/plain": [
       "'0.0'"
      ]
     },
     "execution_count": 78,
     "metadata": {},
     "output_type": "execute_result"
    }
   ],
   "source": [
    "run(test_cases[1][0])"
   ]
  },
  {
   "cell_type": "code",
   "execution_count": null,
   "id": "7e47338d-061d-4233-bbfc-77adff83eadc",
   "metadata": {},
   "outputs": [],
   "source": []
  }
 ],
 "metadata": {
  "kernelspec": {
   "display_name": ".research",
   "language": "python",
   "name": ".research"
  },
  "language_info": {
   "codemirror_mode": {
    "name": "ipython",
    "version": 3
   },
   "file_extension": ".py",
   "mimetype": "text/x-python",
   "name": "python",
   "nbconvert_exporter": "python",
   "pygments_lexer": "ipython3",
   "version": "3.12.8"
  }
 },
 "nbformat": 4,
 "nbformat_minor": 5
}
