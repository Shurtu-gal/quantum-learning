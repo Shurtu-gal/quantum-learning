{
 "cells": [
  {
   "cell_type": "code",
   "execution_count": 21,
   "id": "14ec1396-9281-4dee-ab1a-f9a8f980f3f5",
   "metadata": {},
   "outputs": [],
   "source": [
    "import pennylane as qml\n",
    "from pennylane import numpy as np\n",
    "import tensorflow as tf"
   ]
  },
  {
   "cell_type": "code",
   "execution_count": 6,
   "id": "6308a902-ba6e-4ebc-9415-a373cc3a0160",
   "metadata": {},
   "outputs": [],
   "source": [
    "symbols = [\"H\", \"H\"]\n",
    "geometry = np.array([[0., 0., -0.66140414], [0., 0., 0.66140414]])\n",
    "molecule = qml.qchem.Molecule(symbols, geometry)\n",
    "hamiltonian, qubits = qml.qchem.molecular_hamiltonian(molecule)"
   ]
  },
  {
   "cell_type": "code",
   "execution_count": 10,
   "id": "e51c9cfa-23ba-4da9-ae5c-1e1d5d88748e",
   "metadata": {},
   "outputs": [],
   "source": [
    "dev = qml.device('default.qubit', wires=4)"
   ]
  },
  {
   "cell_type": "code",
   "execution_count": 12,
   "id": "4970fc51-8e33-4aee-a67a-a242dd20843d",
   "metadata": {},
   "outputs": [],
   "source": [
    "@qml.qnode(dev)\n",
    "def circuit():\n",
    "    qml.BasisState(np.array([0,0,1,1]), wires=[0,1,2,3])\n",
    "\n",
    "    return qml.state()"
   ]
  },
  {
   "cell_type": "code",
   "execution_count": 14,
   "id": "750ac6c8-b382-4454-91a9-778e16de6ce5",
   "metadata": {},
   "outputs": [
    {
     "data": {
      "text/plain": [
       "(<Figure size 400x500 with 1 Axes>, <Axes: >)"
      ]
     },
     "execution_count": 14,
     "metadata": {},
     "output_type": "execute_result"
    },
    {
     "data": {
      "image/png": "[encoded data removed]",
      "text/plain": [
       "<Figure size 400x500 with 1 Axes>"
      ]
     },
     "metadata": {},
     "output_type": "display_data"
    }
   ],
   "source": [
    "qml.draw_mpl(circuit, decimals=2)()"
   ]
  },
  {
   "cell_type": "code",
   "execution_count": 15,
   "id": "0c9d2fcc-42be-4a76-9e9c-e5a208d1ffe6",
   "metadata": {},
   "outputs": [
    {
     "data": {
      "text/plain": [
       "tensor([0.+0.j, 0.+0.j, 0.+0.j, 1.+0.j, 0.+0.j, 0.+0.j, 0.+0.j, 0.+0.j,\n",
       "        0.+0.j, 0.+0.j, 0.+0.j, 0.+0.j, 0.+0.j, 0.+0.j, 0.+0.j, 0.+0.j], requires_grad=True)"
      ]
     },
     "execution_count": 15,
     "metadata": {},
     "output_type": "execute_result"
    }
   ],
   "source": [
    "circuit()"
   ]
  },
  {
   "cell_type": "code",
   "execution_count": 16,
   "id": "25dd66fb-2a4b-4bfa-958e-ba09b3c89fdd",
   "metadata": {},
   "outputs": [],
   "source": [
    "@qml.qnode(dev)\n",
    "def circuit(params):\n",
    "    qml.BasisState(np.array([1, 1, 0, 0]), wires=[0, 1, 2, 3])\n",
    "    qml.DoubleExcitation(params, wires=[0, 1, 2, 3])\n",
    "    return qml.expval(hamiltonian)"
   ]
  },
  {
   "cell_type": "code",
   "execution_count": 26,
   "id": "711c11e3-1288-4b28-b726-b6f06595532a",
   "metadata": {},
   "outputs": [
    {
     "data": {
      "text/plain": [
       "tensor(-1.13618912, requires_grad=True)"
      ]
     },
     "execution_count": 26,
     "metadata": {},
     "output_type": "execute_result"
    }
   ],
   "source": [
    "params = np.array(0.2088514642480412, requires_grad=True)\n",
    "circuit(params)"
   ]
  },
  {
   "cell_type": "code",
   "execution_count": 27,
   "id": "54483d5f-5160-48fa-b149-2e1f6b61847f",
   "metadata": {},
   "outputs": [
    {
     "name": "stdout",
     "output_type": "stream",
     "text": [
      "Step 1: params = 0.20892738973133648\n",
      "Step 2: params = 0.208996787510061\n",
      "Step 3: params = 0.2090602188042225\n",
      "Step 4: params = 0.20911819658296923\n",
      "Step 5: params = 0.20917118971293552\n",
      "Step 6: params = 0.20921962674993952\n",
      "Step 7: params = 0.2092638994046949\n",
      "Step 8: params = 0.2093043657105615\n",
      "Step 9: params = 0.20934135291895134\n",
      "Step 10: params = 0.2093751601458041\n"
     ]
    }
   ],
   "source": [
    "def cost(params):\n",
    "    return circuit(params)\n",
    "\n",
    "# Use an optimizer to minimize params\n",
    "opt = qml.GradientDescentOptimizer(stepsize=0.1)\n",
    "\n",
    "# Optimization loop\n",
    "for step in range(10):\n",
    "    params = opt.step(cost, params)\n",
    "    print(f\"Step {step + 1}: params = {params}\")\n"
   ]
  },
  {
   "cell_type": "code",
   "execution_count": 28,
   "id": "e1b070fa-1bfa-420c-a909-49b9b1d2b977",
   "metadata": {},
   "outputs": [
    {
     "data": {
      "text/plain": [
       "tensor(-1.1361894, requires_grad=True)"
      ]
     },
     "execution_count": 28,
     "metadata": {},
     "output_type": "execute_result"
    }
   ],
   "source": [
    "circuit(0.2093751601458041)"
   ]
  }
 ],
 "metadata": {
  "kernelspec": {
   "display_name": ".research",
   "language": "python",
   "name": ".research"
  },
  "language_info": {
   "codemirror_mode": {
    "name": "ipython",
    "version": 3
   },
   "file_extension": ".py",
   "mimetype": "text/x-python",
   "name": "python",
   "nbconvert_exporter": "python",
   "pygments_lexer": "ipython3",
   "version": "3.12.8"
  }
 },
 "nbformat": 4,
 "nbformat_minor": 5
}
