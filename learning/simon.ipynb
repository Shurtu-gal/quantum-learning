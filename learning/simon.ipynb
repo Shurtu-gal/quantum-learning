{
 "cells": [
  {
   "cell_type": "markdown",
   "metadata": {},
   "source": [
    "# Simon Algorithm"
   ]
  },
  {
   "cell_type": "markdown",
   "metadata": {},
   "source": [
    "Simon's Algorithm is a quantum algorithm that provides an exponential speedup over classical algorithms for solving a particular problem, known as Simon's problem. The problem involves a black-box function $f(x)$ such that:\n",
    "\n",
    "$$\n",
    "f(x) = f(x \\oplus s)\n",
    "$$\n",
    "\n",
    "for a secret string $s$, where $\\oplus$ denotes bitwise XOR. The goal of Simon's Algorithm is to determine this secret string $s$.\n",
    "\n",
    "Simon's problem laid the groundwork for later quantum algorithms, including Shor's Algorithm, and is one of the first examples demonstrating the potential of quantum computing to solve problems more efficiently than classical computing.\n"
   ]
  },
  {
   "cell_type": "code",
   "execution_count": 150,
   "metadata": {},
   "outputs": [],
   "source": [
    "import numpy as np\n",
    "import galois\n",
    "\n",
    "from qiskit import QuantumCircuit, QuantumRegister, ClassicalRegister\n",
    "from qiskit.circuit import Gate\n",
    "from qiskit.transpiler.preset_passmanagers import generate_preset_pass_manager\n",
    "\n",
    "from qiskit_aer import AerSimulator\n",
    " \n",
    "from qiskit_aer.noise import (\n",
    "    NoiseModel,\n",
    ")"
   ]
  },
  {
   "cell_type": "markdown",
   "metadata": {},
   "source": [
    "### Simon Function\n",
    "\n",
    "The following creates a quantum gate for the Simon function $f_s(x) = f_s(x \\oplus s)$, where $s$ is a bitstring of length $n$ by defining $f_s(x) = min(x, x \\oplus s)$.\n",
    "\n",
    "- A $4^n \\times 4^n$ matrix is constructed to represent the Simon function's operation.\n",
    "- The operation is encoded as $| \\text{target} \\rangle | \\text{control} \\rangle \\rightarrow | z \\rangle | \\text{control} \\rangle$, where $z$ is the XORth index of an random permutation of integers.\n",
    "\n",
    "- The matrix is converted into a unitary gate and added to the quantum circuit."
   ]
  },
  {
   "cell_type": "code",
   "execution_count": 151,
   "metadata": {},
   "outputs": [],
   "source": [
    "def simon_function(s: str) -> Gate:\n",
    "  \"\"\"\n",
    "  Create a quantum gate for the Simon function f_s(x) = f_s(x + s) where s is a bitstring of length n.\n",
    "  Fulfills the promise of Simon's problem.\n",
    "  Here f_s(x) = rand_permutation[min(x, x + s)] where rand_permutation is a random permutation of the integers 0 to 2^n - 1.\n",
    "  \"\"\"\n",
    "\n",
    "  n = len(s)\n",
    "  qr = QuantumRegister(n * 2)\n",
    "  simon_circuit = QuantumCircuit(qr, name=\"Simon\")\n",
    "\n",
    "  randomness = np.random.permutation(2 ** n)\n",
    "\n",
    "  # This is the gate matrix for the Simon function\n",
    "  query_matrix = np.zeros((4 ** n, 4 ** n), dtype=int)\n",
    "\n",
    "  for control in range(2 ** n):\n",
    "    for target in range(2 ** n):\n",
    "      z = target ^ randomness[min(control, control ^ int(s, 2))]\n",
    "\n",
    "      # The following line is saying that |target>|control> -> |z>|control>\n",
    "      query_matrix[control + 2 ** n * z, control + 2 ** n * target] = 1\n",
    "    \n",
    "  simon_circuit.unitary(query_matrix, qr, label=\"Simon\")\n",
    "\n",
    "  return simon_circuit.to_gate(label=\"Simon\")"
   ]
  },
  {
   "cell_type": "markdown",
   "metadata": {},
   "source": [
    "### Simon's Algorithm\n",
    "\n",
    "After the first layer of Hadamard gates is applied to the $n$ qubits, the state of the system is:\n",
    "\n",
    "$$\n",
    "\\frac{1}{\\sqrt{2^n}} \\sum_{x \\in \\Sigma^n} |0^m\\rangle |x\\rangle\n",
    "$$\n",
    "\n",
    "When the oracle $U_f$ is applied, the state becomes:\n",
    "\n",
    "$$\n",
    "\\frac{1}{\\sqrt{2^n}} \\sum_{x \\in \\Sigma^n} |f(x)\\rangle |x\\rangle\n",
    "$$\n",
    "\n",
    "After applying the second layer of Hadamard gates, the state is:\n",
    "\n",
    "$$\n",
    "\\frac{1}{\\sqrt{2^n}} \\sum_{x \\in \\Sigma^n} \\sum_{y \\in \\Sigma^n} (-1)^{y \\cdot x} |f(x)\\rangle |y\\rangle\n",
    "$$\n"
   ]
  },
  {
   "cell_type": "code",
   "execution_count": 152,
   "metadata": {},
   "outputs": [],
   "source": [
    "def simon_measurements(prob: Gate, k: int, show: bool, noise: bool) -> QuantumCircuit:\n",
    "  \"\"\"\n",
    "  Given a Simon function, return a quantum circuit that measures the first n qubits and returns the results of k shots.\n",
    "  \"\"\"\n",
    "\n",
    "  n = prob.num_qubits // 2\n",
    "  \n",
    "  qr = QuantumRegister(n * 2)\n",
    "  cr = ClassicalRegister(n)\n",
    "  \n",
    "  circuit = QuantumCircuit(qr, cr)\n",
    "  circuit.h(qr[:n])\n",
    "  circuit.append(prob, qr)\n",
    "\n",
    "  circuit.h(qr[:n])\n",
    "  circuit.measure(qr[:n], cr)\n",
    "  if show:\n",
    "    display(circuit.draw('mpl'))\n",
    "\n",
    "  pm = generate_preset_pass_manager(backend=AerSimulator(), optimization_level=1)\n",
    "  isa_qc = pm.run(circuit)\n",
    "\n",
    "  noise_model = None\n",
    "  if noise:\n",
    "    noise_model = NoiseModel.from_backend(AerSimulator().configuration().backend_name)\n",
    "    noise_model.add_quantum_error(galois.depolarizing_error(0.01), \"id\")\n",
    "    noise_model.add_quantum_error(galois.depolarizing_error(0.01), \"u1\")\n",
    "\n",
    "  result = AerSimulator().run(isa_qc, shots=k, memory = True, noise_model=noise_model).result()\n",
    "\n",
    "  return result.get_memory()"
   ]
  },
  {
   "cell_type": "markdown",
   "metadata": {},
   "source": [
    "### Post-Processing\n",
    "\n",
    "Probability of measuring $|y\\rangle$ $p(y)$ is given by the squared norm of the amplitude for measuring the string $y$:\n",
    "\n",
    "$$\n",
    "p(y) = \\left\\| \\frac{1}{\\sqrt{2^n}} \\sum_{x \\in \\Sigma^n} (-1)^{y \\cdot x} |f(x)\\rangle \\right\\|^2\n",
    "$$\n",
    "\n",
    "Upon simplification, the probability of measuring $|y\\rangle$ is:\n",
    "\n",
    "$$\n",
    "p(y) = \\frac{1}{2^n} \\sum_{z \\in \\text{range}(f)} \\left| \\sum_{x \\in f^{-1}(\\{z\\})} (-1)^{y \\cdot x} \\right|^2\n",
    "$$  "
   ]
  },
  {
   "cell_type": "markdown",
   "metadata": {},
   "source": [
    "To analyze the probability $p(y)$ of measuring a specific string $y$, we consider the following cases:\n",
    "\n",
    "$$\n",
    "p(y) =\n",
    "\\begin{cases}\n",
    "\\frac{1}{2^n} & \\text{if } s = 0^n \\text{ (one-to-one function)} \\\\\n",
    "\\frac{1}{2^{n-1}} & \\text{if } s \\ne 0^n \\text{ and } y \\cdot s = 0 \\\\\n",
    "0 & \\text{if } s \\ne 0^n \\text{ and } y \\cdot s = 1\n",
    "\\end{cases}\n",
    "$$"
   ]
  },
  {
   "cell_type": "code",
   "execution_count": 153,
   "metadata": {},
   "outputs": [],
   "source": [
    "def simon_algorithm(prob: Gate, r: int, show: bool, noise: bool) -> str:\n",
    "  measurements = simon_measurements(prob, prob.num_qubits // 2 + r, show, noise)\n",
    "  if show:\n",
    "    print(f\"Measurements: {measurements}\")\n",
    "\n",
    "  # Convert to 2D array of bits of size (k, n)\n",
    "  bit_array = np.array([list(map(int, list(x))) for x in measurements])\n",
    "  \n",
    "  null_space = galois.GF(2)(bit_array).null_space()\n",
    "  if show:\n",
    "    print(f\"Null space: {null_space}\")\n",
    "\n",
    "  if len(null_space) == 0:\n",
    "    return \"0\" * (prob.num_qubits // 2)\n",
    "  \n",
    "  return \"\".join(map(str, null_space[0]))"
   ]
  },
  {
   "cell_type": "code",
   "execution_count": 154,
   "metadata": {},
   "outputs": [
    {
     "data": {
      "image/png": "[encoded data removed]",
      "text/plain": [
       "<Figure size 927.668x953.167 with 1 Axes>"
      ]
     },
     "metadata": {},
     "output_type": "display_data"
    },
    {
     "name": "stdout",
     "output_type": "stream",
     "text": [
      "Measurements: ['01001', '01011', '11010', '00100', '11110', '10111', '01001', '10101', '01001', '10011', '01011', '01111', '10111', '11110', '00010']\n",
      "Null space: [[1 1 0 0 1]]\n"
     ]
    },
    {
     "data": {
      "text/plain": [
       "'11001'"
      ]
     },
     "metadata": {},
     "output_type": "display_data"
    }
   ],
   "source": [
    "display(simon_algorithm(simon_function(\"11001\"), 10, True, False))"
   ]
  },
  {
   "cell_type": "code",
   "execution_count": 155,
   "metadata": {},
   "outputs": [],
   "source": [
    "# Run algorithm multiple times to verify correctness\n",
    "def test_algorithm(n: int, r: int, noise: bool = False):\n",
    "  count = 0\n",
    "\n",
    "  for i in range(n):\n",
    "    s = np.random.randint(2, size=n)\n",
    "    s_str = \"\".join(map(str, s))\n",
    "\n",
    "    ans = simon_algorithm(simon_function(s_str), r, False, False)\n",
    "    print(f\"Expected: {s_str}, Got: {ans}\")\n",
    "\n",
    "    if ans == s_str:\n",
    "      count += 1\n",
    "\n",
    "  print(f\"Success rate: {count / n}\")"
   ]
  },
  {
   "cell_type": "code",
   "execution_count": 156,
   "metadata": {},
   "outputs": [
    {
     "name": "stdout",
     "output_type": "stream",
     "text": [
      "Testing algorithm\n",
      "Testing noiseless algorithm\n",
      "Expected: 00111, Got: 00111\n",
      "Expected: 00001, Got: 00001\n",
      "Expected: 00100, Got: 00100\n",
      "Expected: 01010, Got: 01010\n",
      "Expected: 01010, Got: 01010\n",
      "Success rate: 1.0\n",
      "\n",
      "Testing noisy algorithm\n",
      "Expected: 11101, Got: 11101\n",
      "Expected: 10100, Got: 10100\n",
      "Expected: 01111, Got: 01111\n",
      "Expected: 01010, Got: 01010\n",
      "Expected: 00111, Got: 00111\n",
      "Success rate: 1.0\n"
     ]
    }
   ],
   "source": [
    "print(\"Testing algorithm\")\n",
    "\n",
    "print(\"Testing noiseless algorithm\")\n",
    "test_algorithm(5, 10, False)\n",
    "\n",
    "print(\"\")\n",
    "\n",
    "print(\"Testing noisy algorithm\")\n",
    "test_algorithm(5, 10, True)"
   ]
  }
 ],
 "metadata": {
  "kernelspec": {
   "display_name": ".venv",
   "language": "python",
   "name": "python3"
  },
  "language_info": {
   "codemirror_mode": {
    "name": "ipython",
    "version": 3
   },
   "file_extension": ".py",
   "mimetype": "text/x-python",
   "name": "python",
   "nbconvert_exporter": "python",
   "pygments_lexer": "ipython3",
   "version": "3.12.4"
  }
 },
 "nbformat": 4,
 "nbformat_minor": 2
}
