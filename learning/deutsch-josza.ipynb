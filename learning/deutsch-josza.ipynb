{
 "cells": [
  {
   "cell_type": "code",
   "execution_count": 72,
   "metadata": {},
   "outputs": [],
   "source": [
    "import numpy as np\n",
    "import matplotlib.pyplot as plt\n",
    "\n",
    "from qiskit import QuantumCircuit, QuantumRegister, ClassicalRegister\n",
    "from qiskit_ibm_runtime.fake_provider import FakeAlmadenV2\n",
    "from qiskit.transpiler.preset_passmanagers import generate_preset_pass_manager\n",
    "from qiskit_ibm_runtime import SamplerV2 as Sampler\n",
    "from qiskit.visualization import plot_distribution\n",
    "\n",
    "from qiskit_aer import AerSimulator\n",
    " \n",
    "from qiskit_aer.noise import (\n",
    "    NoiseModel,\n",
    ")"
   ]
  },
  {
   "cell_type": "markdown",
   "metadata": {},
   "source": [
    "### Oracle for balanced/constant function\n",
    "\n",
    "$$\n",
    "U_f =\n",
    "\\begin{cases}\n",
    "1 & \\text{if } f(x) = 1 \\\\\n",
    "\\text{balanced} & \\text{if } f(x) = 0 \\text{ for half of the inputs and } f(x) = 1 \\text{ for the other half} \\\\\n",
    "0 & \\text{if } f(x) = 0\n",
    "\\end{cases}\n",
    "$$"
   ]
  },
  {
   "cell_type": "code",
   "execution_count": 73,
   "metadata": {},
   "outputs": [],
   "source": [
    "def make_oracle(num_qubits):\n",
    "    oracle_gate = QuantumCircuit(num_qubits, name=\"U_f\")\n",
    "\n",
    "    oracleType, oracleValue = np.random.randint(2), np.random.randint(2)\n",
    "    if oracleType == 0:\n",
    "        print(\"Oracle type: constant\")\n",
    "        print(\"Oracle value: {}\".format(oracleValue))\n",
    "\n",
    "        if oracleValue == 1:\n",
    "            oracle_gate.x(num_qubits - 1)\n",
    "        else:\n",
    "            oracle_gate.id(num_qubits - 1)\n",
    "\n",
    "    else:\n",
    "        print(\"Oracle type: balanced\")\n",
    "        a = np.random.randint(2 ** num_qubits) # Used fir balanced oracle\n",
    "\n",
    "        for i in range(num_qubits - 1):\n",
    "            if a & (1 << i):\n",
    "                oracle_gate.cx(i, num_qubits - 1)\n",
    "\n",
    "    # Make the circuit a unitary operator\n",
    "    oracle_gate = oracle_gate.to_gate()\n",
    "    oracle_gate.name = \"U_f\"\n",
    "\n",
    "    return oracle_gate"
   ]
  },
  {
   "cell_type": "markdown",
   "metadata": {},
   "source": [
    "Step 1: Apply Hadamard gate to all qubits and make the last qubit $|-\\rangle$ state.\n",
    "\n",
    "$$\n",
    "\\frac{1}{\\sqrt{2^n}} \\sum_{x=0}^{2^n-1} |x\\rangle |-\\rangle\n",
    "$$"
   ]
  },
  {
   "cell_type": "code",
   "execution_count": 74,
   "metadata": {},
   "outputs": [
    {
     "data": {
      "text/plain": [
       "<qiskit.circuit.instructionset.InstructionSet at 0x74056d3834f0>"
      ]
     },
     "execution_count": 74,
     "metadata": {},
     "output_type": "execute_result"
    }
   ],
   "source": [
    "n = 3\n",
    "\n",
    "qr = QuantumRegister(n)\n",
    "out = QuantumRegister(1)\n",
    "cr = ClassicalRegister(n, name='meas')\n",
    "\n",
    "circuit = QuantumCircuit(qr, out, cr)\n",
    "\n",
    "circuit.h(qr)\n",
    "\n",
    "circuit.x(out)\n",
    "circuit.h(out)"
   ]
  },
  {
   "cell_type": "markdown",
   "metadata": {},
   "source": [
    "Step 2: Apply the oracle function $U_f$.\n",
    "\n",
    "$$\n",
    "\\frac{1}{\\sqrt{2^n}} \\sum_{x=0}^{2^n-1} |x\\rangle |f(x)\\rangle \\oplus |-\\rangle\n",
    "$$\n",
    "\n",
    "This can be simplified as follows.\n",
    "\n",
    "$$\n",
    "\\frac{1}{\\sqrt{2^n}} \\sum_{x=0}^{2^n-1} (-1)^{f(x)} |x\\rangle|-\\rangle\n",
    "$$"
   ]
  },
  {
   "cell_type": "code",
   "execution_count": 75,
   "metadata": {},
   "outputs": [
    {
     "name": "stdout",
     "output_type": "stream",
     "text": [
      "Oracle type: constant\n",
      "Oracle value: 1\n"
     ]
    },
    {
     "data": {
      "text/plain": [
       "CircuitInstruction(operation=Instruction(name='barrier', num_qubits=4, num_clbits=0, params=[]), qubits=(Qubit(QuantumRegister(3, 'q93'), 0), Qubit(QuantumRegister(3, 'q93'), 1), Qubit(QuantumRegister(3, 'q93'), 2), Qubit(QuantumRegister(1, 'q94'), 0)), clbits=())"
      ]
     },
     "execution_count": 75,
     "metadata": {},
     "output_type": "execute_result"
    }
   ],
   "source": [
    "circuit.barrier()\n",
    "circuit.append(make_oracle(n + 1), range(n + 1))\n",
    "circuit.barrier()"
   ]
  },
  {
   "cell_type": "markdown",
   "metadata": {},
   "source": [
    "Step 3: Measure the outputs using hadamard gates\n",
    "\n",
    "$$\n",
    "\\begin{cases}\n",
    "constant& \\text{if } Measurement = 0 \\text{ for all } x \\\\\n",
    "balanced& \\text{if } Measurement = 1 \\text{ for any } x\n",
    "\\end{cases}\n",
    "$$\n",
    "\n",
    "Because if the function is balanced then the amplitude of the state of n qubits being $|0\\rangle$ will be zero and at least one of the qubits will be in the state $|1\\rangle$."
   ]
  },
  {
   "cell_type": "code",
   "execution_count": 76,
   "metadata": {},
   "outputs": [
    {
     "data": {
      "text/html": [
       "<pre style=\"word-wrap: normal;white-space: pre;background: #fff0;line-height: 1.1;font-family: &quot;Courier New&quot;,Courier,monospace\">        ┌───┐      ░ ┌──────┐ ░ ┌───┐┌─┐      \n",
       " q93_0: ┤ H ├──────░─┤0     ├─░─┤ H ├┤M├──────\n",
       "        ├───┤      ░ │      │ ░ ├───┤└╥┘┌─┐   \n",
       " q93_1: ┤ H ├──────░─┤1     ├─░─┤ H ├─╫─┤M├───\n",
       "        ├───┤      ░ │  U_f │ ░ ├───┤ ║ └╥┘┌─┐\n",
       " q93_2: ┤ H ├──────░─┤2     ├─░─┤ H ├─╫──╫─┤M├\n",
       "        ├───┤┌───┐ ░ │      │ ░ └───┘ ║  ║ └╥┘\n",
       "   q94: ┤ X ├┤ H ├─░─┤3     ├─░───────╫──╫──╫─\n",
       "        └───┘└───┘ ░ └──────┘ ░       ║  ║  ║ \n",
       "meas: 3/══════════════════════════════╩══╩══╩═\n",
       "                                      0  1  2 </pre>"
      ],
      "text/plain": [
       "        ┌───┐      ░ ┌──────┐ ░ ┌───┐┌─┐      \n",
       " q93_0: ┤ H ├──────░─┤0     ├─░─┤ H ├┤M├──────\n",
       "        ├───┤      ░ │      │ ░ ├───┤└╥┘┌─┐   \n",
       " q93_1: ┤ H ├──────░─┤1     ├─░─┤ H ├─╫─┤M├───\n",
       "        ├───┤      ░ │  U_f │ ░ ├───┤ ║ └╥┘┌─┐\n",
       " q93_2: ┤ H ├──────░─┤2     ├─░─┤ H ├─╫──╫─┤M├\n",
       "        ├───┤┌───┐ ░ │      │ ░ └───┘ ║  ║ └╥┘\n",
       "   q94: ┤ X ├┤ H ├─░─┤3     ├─░───────╫──╫──╫─\n",
       "        └───┘└───┘ ░ └──────┘ ░       ║  ║  ║ \n",
       "meas: 3/══════════════════════════════╩══╩══╩═\n",
       "                                      0  1  2 "
      ]
     },
     "execution_count": 76,
     "metadata": {},
     "output_type": "execute_result"
    }
   ],
   "source": [
    "circuit.h(range(n))\n",
    "\n",
    "for i in range(n):\n",
    "  circuit.measure(qr[i], cr[i])\n",
    "\n",
    "circuit.draw()"
   ]
  },
  {
   "cell_type": "code",
   "execution_count": 77,
   "metadata": {},
   "outputs": [],
   "source": [
    "# Run the simulation using the FakeAlmadenV2 provider\n",
    "provider = FakeAlmadenV2()\n",
    "pass_manager = generate_preset_pass_manager(backend=provider, optimization_level=1)\n",
    "isa_qc = pass_manager.run(circuit)\n",
    "\n",
    "sampler = Sampler(mode=provider)\n",
    "sampler.options.default_shots = 10000\n",
    " \n",
    "result = sampler.run([isa_qc]).result()\n",
    "\n",
    "dist = result[0].data.meas.get_counts()"
   ]
  },
  {
   "cell_type": "code",
   "execution_count": 78,
   "metadata": {},
   "outputs": [
    {
     "data": {
      "image/png": "[encoded data removed]",
      "text/plain": [
       "<Figure size 700x500 with 1 Axes>"
      ]
     },
     "execution_count": 78,
     "metadata": {},
     "output_type": "execute_result"
    }
   ],
   "source": [
    "plot_distribution(dist)"
   ]
  },
  {
   "cell_type": "markdown",
   "metadata": {},
   "source": [
    "### Add noise to simulate real devices"
   ]
  },
  {
   "cell_type": "code",
   "execution_count": 79,
   "metadata": {},
   "outputs": [
    {
     "data": {
      "image/png": "[encoded data removed]",
      "text/plain": [
       "<Figure size 700x500 with 1 Axes>"
      ]
     },
     "execution_count": 79,
     "metadata": {},
     "output_type": "execute_result"
    }
   ],
   "source": [
    "backend = AerSimulator()\n",
    "noise_model = NoiseModel.from_backend(provider)\n",
    "pass_manager = generate_preset_pass_manager(backend=provider, optimization_level=1)\n",
    "isa_qc = pass_manager.run(circuit)\n",
    "\n",
    "result = backend.run(isa_qc, noise_model=noise_model).result()\n",
    "\n",
    "dist = result.get_counts()\n",
    "\n",
    "plot_distribution(dist)"
   ]
  }
 ],
 "metadata": {
  "kernelspec": {
   "display_name": ".venv",
   "language": "python",
   "name": "python3"
  },
  "language_info": {
   "codemirror_mode": {
    "name": "ipython",
    "version": 3
   },
   "file_extension": ".py",
   "mimetype": "text/x-python",
   "name": "python",
   "nbconvert_exporter": "python",
   "pygments_lexer": "ipython3",
   "version": "3.12.4"
  }
 },
 "nbformat": 4,
 "nbformat_minor": 2
}
